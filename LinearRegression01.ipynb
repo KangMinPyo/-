{
  "nbformat": 4,
  "nbformat_minor": 0,
  "metadata": {
    "colab": {
      "name": "LinearRegression01.ipynb",
      "private_outputs": true,
      "provenance": [],
      "collapsed_sections": [],
      "authorship_tag": "ABX9TyNDG8CfaGAK9P+leDan0NQl",
      "include_colab_link": true
    },
    "kernelspec": {
      "name": "python3",
      "display_name": "Python 3"
    },
    "language_info": {
      "name": "python"
    }
  },
  "cells": [
    {
      "cell_type": "markdown",
      "metadata": {
        "id": "view-in-github",
        "colab_type": "text"
      },
      "source": [
        "<a href=\"https://colab.research.google.com/github/KangMinPyo/machinelearning/blob/main/LinearRegression01.ipynb\" target=\"_parent\"><img src=\"https://colab.research.google.com/assets/colab-badge.svg\" alt=\"Open In Colab\"/></a>"
      ]
    },
    {
      "cell_type": "code",
      "execution_count": null,
      "metadata": {
        "id": "gyBYW1X40RJJ"
      },
      "outputs": [],
      "source": [
        "from sklearn import linear_model\n",
        "import numpy as np\n",
        "import pandas as pd\n",
        "import matplotlib.pyplot as plt\n",
        "import matplotlib\n",
        "%matplotlib inline\n",
        "matplotlib.style.use('ggplot')\n",
        "\n",
        "data = {'x':[0,1,1], 'y':[0,1,2]}\n",
        "data = pd.DataFrame(data)\n",
        "\n",
        "linear_regression = linear_model.LinearRegression()\n",
        "linear_regression.fit(X = pd.DataFrame(data[\"x\"]), y = data[\"y\"])\n",
        "prediction = linear_regression.predict(X = pd.DataFrame(data[\"x\"]))\n",
        "\n",
        "data.plot(kind='scatter', x ='x', y ='y', color='red')\n",
        "plt.plot(data['x'], prediction, color='blue')"
      ]
    }
  ]
}